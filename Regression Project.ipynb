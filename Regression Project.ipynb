{
 "cells": [
  {
   "cell_type": "markdown",
   "id": "a423eced-d33d-4434-8fd9-2095a5b20af2",
   "metadata": {},
   "source": [
    "# Regression Project"
   ]
  },
  {
   "cell_type": "markdown",
   "id": "6e5401be-abce-4abe-b78a-f06cea711305",
   "metadata": {},
   "source": [
    "### Import Libraries"
   ]
  },
  {
   "cell_type": "code",
   "execution_count": 3,
   "id": "b36530b9-6686-4631-aaa6-60afce9781ac",
   "metadata": {},
   "outputs": [],
   "source": [
    "import pandas as pd\n",
    "from sklearn.model_selection import train_test_split\n",
    "from sklearn.preprocessing import StandardScaler\n",
    "from sklearn.linear_model import Lasso, LassoCV\n",
    "from sklearn.metrics import mean_absolute_error, mean_squared_error, r2_score, root_mean_squared_error\n",
    "import matplotlib.pyplot as plt"
   ]
  },
  {
   "cell_type": "markdown",
   "id": "a553b670-ba34-4bdd-9b17-094e34a8b92e",
   "metadata": {},
   "source": [
    "### Load and explore data"
   ]
  },
  {
   "cell_type": "code",
   "execution_count": 5,
   "id": "84d4ee36-3e38-40a0-8a95-164464bca813",
   "metadata": {},
   "outputs": [
    {
     "name": "stdout",
     "output_type": "stream",
     "text": [
      "Index(['rentfaster_id', 'city', 'province', 'address', 'latitude', 'longitude',\n",
      "       'lease_term', 'type', 'price', 'beds', 'baths', 'sq_feet', 'link',\n",
      "       'furnishing', 'availability_date', 'smoking', 'cats', 'dogs'],\n",
      "      dtype='object')\n"
     ]
    }
   ],
   "source": [
    "df = pd.read_csv('rentfaster.csv') #loading dataset\n",
    "\n",
    "print(df.columns) #cheking basic info about dataset"
   ]
  },
  {
   "cell_type": "code",
   "execution_count": 6,
   "id": "c82a9582-0c09-4600-b7f9-872aaab922a4",
   "metadata": {},
   "outputs": [
    {
     "name": "stdout",
     "output_type": "stream",
     "text": [
      "rentfaster_id           0\n",
      "city                    0\n",
      "province                0\n",
      "address               125\n",
      "latitude                0\n",
      "longitude               0\n",
      "lease_term             46\n",
      "type                    0\n",
      "price                   0\n",
      "beds                  132\n",
      "baths                 134\n",
      "sq_feet              4112\n",
      "link                    0\n",
      "furnishing              0\n",
      "availability_date      12\n",
      "smoking              2702\n",
      "cats                  173\n",
      "dogs                  173\n",
      "dtype: int64\n"
     ]
    }
   ],
   "source": [
    "print(df.isnull().sum()) #cheing for missing values"
   ]
  },
  {
   "cell_type": "code",
   "execution_count": 10,
   "id": "ae8d4cf2-d376-404a-9163-731a9390e0e6",
   "metadata": {},
   "outputs": [
    {
     "name": "stdout",
     "output_type": "stream",
     "text": [
      "rentfaster_id          int64\n",
      "city                  object\n",
      "province              object\n",
      "address               object\n",
      "latitude             float64\n",
      "longitude            float64\n",
      "lease_term            object\n",
      "type                  object\n",
      "price                float64\n",
      "beds                  object\n",
      "baths                 object\n",
      "sq_feet               object\n",
      "link                  object\n",
      "furnishing            object\n",
      "availability_date     object\n",
      "smoking               object\n",
      "cats                  object\n",
      "dogs                  object\n",
      "dtype: object\n"
     ]
    }
   ],
   "source": [
    "print(df.dtypes)"
   ]
  },
  {
   "cell_type": "markdown",
   "id": "6aa857d8-2be0-4276-acb0-4781642ef628",
   "metadata": {},
   "source": [
    "### Data cleaning and preprocessing"
   ]
  },
  {
   "cell_type": "code",
   "execution_count": 13,
   "id": "abae7f3f-cfb3-401b-a209-06db839aa322",
   "metadata": {},
   "outputs": [],
   "source": [
    "df = df.dropna() #removing  missing values"
   ]
  },
  {
   "cell_type": "code",
   "execution_count": 15,
   "id": "d35cb6ec-0348-4411-8e48-b7258f11bb23",
   "metadata": {},
   "outputs": [],
   "source": [
    "columns_to_drop = ['address', 'link', 'availability_date']\n",
    "df = df.drop(columns_to_drop, axis=1)\n",
    "\n",
    "for col in ['beds', 'baths', 'sq_feet']:\n",
    "    df[col] = df[col].str.replace(r'[^\\d.]', '', regex=True)  #remove non-numeric characters\n",
    "    df[col] = pd.to_numeric(df[col], errors='coerce')  #convert to numeric\n",
    "\n",
    "categorical_cols = ['city', 'province', 'lease_term', 'type', 'furnishing', 'smoking', 'cats', 'dogs']\n",
    "df = pd.get_dummies(df, columns=categorical_cols, drop_first=True)\n",
    "\n",
    "df = df.fillna(df.median())"
   ]
  },
  {
   "cell_type": "markdown",
   "id": "c908e027-b0b9-449a-bcf9-ef8dd41959b9",
   "metadata": {},
   "source": [
    "### Model building and comparison"
   ]
  },
  {
   "cell_type": "markdown",
   "id": "06daae3e-ddd1-4cf2-931e-eca55b3d96ec",
   "metadata": {},
   "source": [
    "### Linear Regression"
   ]
  },
  {
   "cell_type": "code",
   "execution_count": 19,
   "id": "835fe778-08f0-4f8b-be16-2b0274f45678",
   "metadata": {},
   "outputs": [
    {
     "ename": "NameError",
     "evalue": "name 'LinearRegression' is not defined",
     "output_type": "error",
     "traceback": [
      "\u001b[1;31m---------------------------------------------------------------------------\u001b[0m",
      "\u001b[1;31mNameError\u001b[0m                                 Traceback (most recent call last)",
      "Cell \u001b[1;32mIn[19], line 10\u001b[0m\n\u001b[0;32m      7\u001b[0m X_train_scaled \u001b[38;5;241m=\u001b[39m scaler\u001b[38;5;241m.\u001b[39mfit_transform(X_train)\n\u001b[0;32m      8\u001b[0m X_test_scaled \u001b[38;5;241m=\u001b[39m scaler\u001b[38;5;241m.\u001b[39mtransform(X_test)\n\u001b[1;32m---> 10\u001b[0m model \u001b[38;5;241m=\u001b[39m LinearRegression()\n\u001b[0;32m     11\u001b[0m model\u001b[38;5;241m.\u001b[39mfit(X_train_scaled, y_train)\n\u001b[0;32m     13\u001b[0m y_pred \u001b[38;5;241m=\u001b[39m model\u001b[38;5;241m.\u001b[39mpredict(X_test_scaled)\n",
      "\u001b[1;31mNameError\u001b[0m: name 'LinearRegression' is not defined"
     ]
    }
   ],
   "source": [
    "X = df.drop('price', axis=1)\n",
    "y = df['price']\n",
    "\n",
    "X_train, X_test, y_train, y_test = train_test_split(X, y, test_size=0.2, random_state=42)\n",
    "\n",
    "scaler = StandardScaler()\n",
    "X_train_scaled = scaler.fit_transform(X_train)\n",
    "X_test_scaled = scaler.transform(X_test)\n",
    "\n",
    "model = LinearRegression()\n",
    "model.fit(X_train_scaled, y_train)\n",
    "\n",
    "y_pred = model.predict(X_test_scaled)\n",
    "\n",
    "mae = mean_absolute_error(y_test, y_pred)\n",
    "mse = mean_squared_error(y_test, y_pred)\n",
    "rmse = root_mean_squared_error(y_test, y_pred)\n",
    "r2 = r2_score(y_test, y_pred)\n",
    "\n",
    "print(f\"MAE: {mae}\")\n",
    "print(f\"MSE: {mse}\")\n",
    "print(f\"RMSE: {rmse}\")\n",
    "print(f\"R2: {r2}\")\n",
    "\n",
    "coefficients = model.coef_\n",
    "feature_names = X.columns\n",
    "coef_df = pd.DataFrame({'Feature': feature_names, 'Coefficient': coefficients})\n",
    "print(coef_df)\n",
    "\n",
    "plt.figure(figsize=(8, 6))\n",
    "plt.scatter(y_test, y_pred, alpha=0.5)\n",
    "plt.plot([y_test.min(), y_test.max()], [y_test.min(), y_test.max()], 'r--')\n",
    "plt.xlabel('Actual Price')\n",
    "plt.ylabel('Predicted Price')\n",
    "plt.title('Actual vs. Predicted Price')\n",
    "plt.show()"
   ]
  },
  {
   "cell_type": "markdown",
   "id": "5590880e-9dbe-4352-a9da-f286489b7121",
   "metadata": {},
   "source": [
    "### Ridge Regression"
   ]
  },
  {
   "cell_type": "code",
   "execution_count": 21,
   "id": "8802c370-2ab0-41d5-8372-17e2ed14db7d",
   "metadata": {},
   "outputs": [
    {
     "ename": "NameError",
     "evalue": "name 'Ridge' is not defined",
     "output_type": "error",
     "traceback": [
      "\u001b[1;31m---------------------------------------------------------------------------\u001b[0m",
      "\u001b[1;31mNameError\u001b[0m                                 Traceback (most recent call last)",
      "Cell \u001b[1;32mIn[21], line 1\u001b[0m\n\u001b[1;32m----> 1\u001b[0m ridge \u001b[38;5;241m=\u001b[39m Ridge(alpha\u001b[38;5;241m=\u001b[39m\u001b[38;5;241m1.0\u001b[39m)\n\u001b[0;32m      2\u001b[0m ridge\u001b[38;5;241m.\u001b[39mfit(X_train_scaled, y_train)\n\u001b[0;32m      4\u001b[0m y_pred \u001b[38;5;241m=\u001b[39m ridge\u001b[38;5;241m.\u001b[39mpredict(X_test_scaled)\n",
      "\u001b[1;31mNameError\u001b[0m: name 'Ridge' is not defined"
     ]
    }
   ],
   "source": [
    "ridge = Ridge(alpha=1.0)\n",
    "ridge.fit(X_train_scaled, y_train)\n",
    "\n",
    "y_pred = ridge.predict(X_test_scaled)\n",
    "\n",
    "mae = mean_absolute_error(y_test, y_pred)\n",
    "mse = mean_squared_error(y_test, y_pred)\n",
    "rmse = root_mean_squared_error(y_test, y_pred)\n",
    "r2 = r2_score(y_test, y_pred)\n",
    "\n",
    "print(f\"MAE: {mae}\")\n",
    "print(f\"MSE: {mse}\")\n",
    "print(f\"RMSE: {rmse}\")\n",
    "print(f\"R2: {r2}\")\n",
    "\n",
    "coefficients = ridge.coef_\n",
    "feature_names = X.columns\n",
    "coef_df = pd.DataFrame({'Feature': feature_names, 'Coefficient': coefficients})\n",
    "print(coef_df)\n",
    "\n",
    "alphas = [0.01, 0.1, 1.0, 10.0, 100.0]\n",
    "ridge_cv = RidgeCV(alphas=alphas, cv=5)\n",
    "ridge_cv.fit(X_train_scaled, y_train)\n",
    "\n",
    "print(f\"Best alpha: {ridge_cv.alpha_}\")\n",
    "\n",
    "y_pred_cv = ridge_cv.predict(X_test_scaled)\n",
    "mae_cv = mean_absolute_error(y_test, y_pred_cv)\n",
    "rmse_cv = root_mean_squared_error(y_test, y_pred_cv)\n",
    "r2_cv = r2_score(y_test, y_pred_cv)\n",
    "\n",
    "print(f\"MAE (with best alpha): {mae_cv}\")\n",
    "print(f\"RMSE (with best alpha): {rmse_cv}\")\n",
    "print(f\"R2 (with best alpha): {r2_cv}\")\n",
    "\n",
    "plt.figure(figsize=(8, 6))\n",
    "plt.scatter(y_test, y_pred, alpha=0.5)\n",
    "plt.plot([y_test.min(), y_test.max()], [y_test.min(), y_test.max()], 'r--')\n",
    "plt.xlabel('Actual Price')\n",
    "plt.ylabel('Predicted Price')\n",
    "plt.title('Actual vs. Predicted Price (Ridge Regression)')\n",
    "plt.show()"
   ]
  },
  {
   "cell_type": "markdown",
   "id": "f6d2986a-d657-4c06-8723-474d34d7ca02",
   "metadata": {},
   "source": [
    "### Lasso Regression"
   ]
  },
  {
   "cell_type": "code",
   "execution_count": 186,
   "id": "3111ff37-04da-492b-b68a-b4c4689365c6",
   "metadata": {},
   "outputs": [
    {
     "name": "stdout",
     "output_type": "stream",
     "text": [
      "MAE: 333.40182535148756\n",
      "MSE: 298183.4748943153\n",
      "RMSE: 546.0617867002921\n",
      "R2: 0.5728975947906816\n",
      "                         Feature  Coefficient\n",
      "0                  rentfaster_id    47.059719\n",
      "1                       latitude  -201.332630\n",
      "2                      longitude     0.000000\n",
      "3                           beds   124.608433\n",
      "4                          baths   402.127727\n",
      "..                           ...          ...\n",
      "257          smoking_Non-Smoking    21.576564\n",
      "258  smoking_Smoke Free Building    20.699770\n",
      "259      smoking_Smoking Allowed     2.794337\n",
      "260                    cats_True     6.537074\n",
      "261                    dogs_True    73.327767\n",
      "\n",
      "[262 rows x 2 columns]\n"
     ]
    },
    {
     "data": {
      "image/png": "[encoded data removed]",
      "text/plain": [
       "<Figure size 800x600 with 1 Axes>"
      ]
     },
     "metadata": {},
     "output_type": "display_data"
    }
   ],
   "source": [
    "lasso = Lasso(alpha=1.0, max_iter=10000, tol=1e-4)\n",
    "lasso.fit(X_train_scaled, y_train)\n",
    "\n",
    "y_pred = lasso.predict(X_test_scaled)\n",
    "\n",
    "mae = mean_absolute_error(y_test, y_pred)\n",
    "mse = mean_squared_error(y_test, y_pred)\n",
    "rmse = root_mean_squared_error(y_test, y_pred)\n",
    "r2 = r2_score(y_test, y_pred)\n",
    "\n",
    "print(f\"MAE: {mae}\")\n",
    "print(f\"MSE: {mse}\")\n",
    "print(f\"RMSE: {rmse}\")\n",
    "print(f\"R2: {r2}\")\n",
    "\n",
    "coefficients = lasso.coef_\n",
    "feature_names = X.columns\n",
    "coef_df = pd.DataFrame({'Feature': feature_names, 'Coefficient': coefficients})\n",
    "print(coef_df)\n",
    "\n",
    "plt.figure(figsize=(8, 6))\n",
    "plt.scatter(y_test, y_pred, alpha=0.5)\n",
    "plt.plot([y_test.min(), y_test.max()], [y_test.min(), y_test.max()], 'r--')\n",
    "plt.xlabel('Actual Price')\n",
    "plt.ylabel('Predicted Price')\n",
    "plt.title('Actual vs. Predicted Price (Lasso Regression)')\n",
    "plt.show()"
   ]
  },
  {
   "cell_type": "code",
   "execution_count": 190,
   "id": "9fdde880-1a63-4488-bea3-d9a1da8b5a10",
   "metadata": {},
   "outputs": [
    {
     "name": "stdout",
     "output_type": "stream",
     "text": [
      "                         Feature  Linear_Coefficient  Ridge_Coefficient  \\\n",
      "0                  rentfaster_id           49.709124          48.042300   \n",
      "1                       latitude         -301.730470        -253.794809   \n",
      "2                      longitude       -11058.390306       -1240.090358   \n",
      "3                           beds          127.008142         126.296884   \n",
      "4                          baths          399.964237         400.770371   \n",
      "..                           ...                 ...                ...   \n",
      "257          smoking_Non-Smoking           31.843750          35.139524   \n",
      "258  smoking_Smoke Free Building           28.480469          32.239998   \n",
      "259      smoking_Smoking Allowed            9.296875          10.972799   \n",
      "260                    cats_True            6.914062           7.407441   \n",
      "261                    dogs_True           74.582031          74.780350   \n",
      "\n",
      "     Lasso_Coefficient  \n",
      "0            47.059719  \n",
      "1          -201.332630  \n",
      "2             0.000000  \n",
      "3           124.608433  \n",
      "4           402.127727  \n",
      "..                 ...  \n",
      "257          21.576564  \n",
      "258          20.699770  \n",
      "259           2.794337  \n",
      "260           6.537074  \n",
      "261          73.327767  \n",
      "\n",
      "[262 rows x 4 columns]\n"
     ]
    }
   ],
   "source": [
    "# Get coefficients for all models\n",
    "linear_coef = pd.DataFrame({'Feature': X.columns, 'Linear_Coefficient': linear_model.coef_})\n",
    "ridge_coef = pd.DataFrame({'Feature': X.columns, 'Ridge_Coefficient': ridge_model.coef_})\n",
    "lasso_coef = pd.DataFrame({'Feature': X.columns, 'Lasso_Coefficient': lasso.coef_})\n",
    "\n",
    "# Merge all coefficients into one DataFrame\n",
    "coef_comparison = linear_coef.merge(ridge_coef, on='Feature').merge(lasso_coef, on='Feature')\n",
    "print(coef_comparison)"
   ]
  },
  {
   "cell_type": "markdown",
   "id": "ef9895d9-8e52-4122-add3-6282a5d43657",
   "metadata": {},
   "source": [
    "### Final model vs new predictions"
   ]
  },
  {
   "cell_type": "code",
   "execution_count": 47,
   "id": "3dec42c4-bb4e-469a-ba03-327ae294d110",
   "metadata": {},
   "outputs": [
    {
     "name": "stdout",
     "output_type": "stream",
     "text": [
      "R² score is not defined for less than two samples.\n",
      "Mean Squared Error: 3996.901495844871\n",
      "Coefficients: [515.70526316]\n",
      "Cross-Validation R-squared Scores: [nan nan nan nan nan]\n",
      "Average R-squared Score: nan\n"
     ]
    },
    {
     "name": "stderr",
     "output_type": "stream",
     "text": [
      "C:\\Users\\mario\\anaconda3\\Lib\\site-packages\\sklearn\\metrics\\_regression.py:1187: UndefinedMetricWarning: R^2 score is not well-defined with less than two samples.\n",
      "  warnings.warn(msg, UndefinedMetricWarning)\n",
      "C:\\Users\\mario\\anaconda3\\Lib\\site-packages\\sklearn\\metrics\\_regression.py:1187: UndefinedMetricWarning: R^2 score is not well-defined with less than two samples.\n",
      "  warnings.warn(msg, UndefinedMetricWarning)\n",
      "C:\\Users\\mario\\anaconda3\\Lib\\site-packages\\sklearn\\metrics\\_regression.py:1187: UndefinedMetricWarning: R^2 score is not well-defined with less than two samples.\n",
      "  warnings.warn(msg, UndefinedMetricWarning)\n",
      "C:\\Users\\mario\\anaconda3\\Lib\\site-packages\\sklearn\\metrics\\_regression.py:1187: UndefinedMetricWarning: R^2 score is not well-defined with less than two samples.\n",
      "  warnings.warn(msg, UndefinedMetricWarning)\n",
      "C:\\Users\\mario\\anaconda3\\Lib\\site-packages\\sklearn\\metrics\\_regression.py:1187: UndefinedMetricWarning: R^2 score is not well-defined with less than two samples.\n",
      "  warnings.warn(msg, UndefinedMetricWarning)\n"
     ]
    }
   ],
   "source": [
    "import pandas as pd\n",
    "from sklearn.model_selection import train_test_split, cross_val_score, LeaveOneOut\n",
    "from sklearn.linear_model import Lasso\n",
    "from sklearn.metrics import mean_squared_error, r2_score\n",
    "import numpy as np\n",
    "\n",
    "data = {\n",
    "    'beds': [2, 3, 2, 1, 4],\n",
    "    'price': [1500, 2000, 1200, 1000, 2500]\n",
    "}\n",
    "\n",
    "df = pd.DataFrame(data)\n",
    "\n",
    "X = df.drop('price', axis=1)\n",
    "y = df['price']\n",
    "\n",
    "X_train, X_test, y_train, y_test = train_test_split(X, y, test_size=0.2, random_state=42)\n",
    "\n",
    "lasso = Lasso(alpha=0.1)\n",
    "lasso.fit(X_train, y_train)\n",
    "\n",
    "y_pred = lasso.predict(X_test)\n",
    "\n",
    "mse = mean_squared_error(y_test, y_pred)\n",
    "if len(y_test) > 1:\n",
    "    r2 = r2_score(y_test, y_pred)\n",
    "    print(f'R2: {r2}')\n",
    "else:\n",
    "    print('R² score is not defined for less than two samples.')\n",
    "\n",
    "print(f'Mean Squared Error: {mse}')\n",
    "print('Coefficients:', lasso.coef_)\n",
    "\n",
    "loo = LeaveOneOut()\n",
    "scores = cross_val_score(lasso, X, y, cv=loo, scoring='r2')\n",
    "\n",
    "print(f'Cross-Validation R-squared Scores: {scores}')\n",
    "print(f'Average R-squared Score: {np.mean(scores)}')"
   ]
  },
  {
   "cell_type": "markdown",
   "id": "84edb948-fd91-49c3-a064-64ef4fbeace9",
   "metadata": {},
   "source": [
    "### Conclusion"
   ]
  },
  {
   "cell_type": "markdown",
   "id": "37a8dabc-62a7-4507-b418-0fb96ebf52ae",
   "metadata": {},
   "source": [
    "##### When comparing Linear Regression, Ridge Regression, and Lasso Regression, Lasso stands out as the best model due to its unique feature selection capability.\n",
    "\n",
    "##### Linear Regression, while straightforward and easy to interpret, suffers from sensitivity to multicollinearity and outliers. This can lead to overfitting and unreliable predictions, especially in complex datasets with many features.\n",
    "\n",
    "##### Ridge Regression addresses some of these issues by introducing L2 regularization, which shrinks coefficients and reduces the impact of multicollinearity. However, Ridge Regression does not perform feature selection and retains all features in the model, even if some are not significant.\n",
    "\n",
    "##### Lasso Regression, on the other hand, incorporates L1 regularization, which not only shrinks coefficients but can also set some of them to zero. This effectively performs feature selection, simplifying the model by removing less important features. This leads to a more interpretable model and can enhance predictive performance, especially when only a subset of features is truly relevant.\n",
    "\n",
    "##### Given the data at hand, Lasso Regression reduces the complexity of the model without compromising accuracy, making it the most robust and reliable choice among the three models."
   ]
  }
 ],
 "metadata": {
  "kernelspec": {
   "display_name": "Python 3 (ipykernel)",
   "language": "python",
   "name": "python3"
  },
  "language_info": {
   "codemirror_mode": {
    "name": "ipython",
    "version": 3
   },
   "file_extension": ".py",
   "mimetype": "text/x-python",
   "name": "python",
   "nbconvert_exporter": "python",
   "pygments_lexer": "ipython3",
   "version": "3.12.4"
  }
 },
 "nbformat": 4,
 "nbformat_minor": 5
}
